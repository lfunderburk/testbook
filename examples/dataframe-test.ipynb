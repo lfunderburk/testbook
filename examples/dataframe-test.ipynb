{
 "cells": [
  {
   "cell_type": "code",
   "execution_count": 1,
   "id": "0520ed2a",
   "metadata": {},
   "outputs": [],
   "source": [
    "from testbook import testbook\n",
    "\n",
    "@testbook('./dataframe-assertion-example.ipynb')\n",
    "def test_dataframe_manipulation(tb):\n",
    "    tb.execute_cell('imports')\n",
    "\n",
    "    # Inject a dataframe with code\n",
    "    tb.inject(\n",
    "        \"\"\"\n",
    "        df = pd.DataFrame([[1, None, 3], [4, 5, 6]], columns=['a', 'b', 'c'], dtype='float')\n",
    "        \"\"\"\n",
    "    )\n",
    "\n",
    "    # Perform manipulation\n",
    "    tb.execute_cell('manipulation')\n",
    "\n",
    "    # Inject assertion into notebook\n",
    "    tb.inject(\"assert len(df) == 1\")"
   ]
  },
  {
   "cell_type": "code",
   "execution_count": 2,
   "id": "da0069ee",
   "metadata": {},
   "outputs": [],
   "source": [
    "test_dataframe_manipulation()"
   ]
  }
 ],
 "metadata": {
  "kernelspec": {
   "display_name": "Python 3",
   "language": "python",
   "name": "python3"
  },
  "language_info": {
   "codemirror_mode": {
    "name": "ipython",
    "version": 3
   },
   "file_extension": ".py",
   "mimetype": "text/x-python",
   "name": "python",
   "nbconvert_exporter": "python",
   "pygments_lexer": "ipython3",
   "version": "3.7.6"
  }
 },
 "nbformat": 4,
 "nbformat_minor": 5
}
