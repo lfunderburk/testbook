{
 "cells": [
  {
   "cell_type": "code",
   "execution_count": null,
   "metadata": {},
   "outputs": [],
   "source": [
    "from testbook import testbook\n",
    "\n",
    "@testbook('./requests-test.ipynb', execute=True)\n",
    "def test_get_details(tb):\n",
    "    with tb.patch('requests.get') as mock_get:\n",
    "        get_details = tb.ref('get_details') # get reference to function\n",
    "        get_details('https://my-api.com')\n",
    "\n",
    "        mock_get.assert_called_with('https://my-api.com')\n",
    "        "
   ]
  },
  {
   "cell_type": "code",
   "execution_count": null,
   "metadata": {},
   "outputs": [],
   "source": [
    "test_get_details()"
   ]
  }
 ],
 "metadata": {
  "kernelspec": {
   "display_name": "Python 3",
   "language": "python",
   "name": "python3"
  },
  "language_info": {
   "codemirror_mode": {
    "name": "ipython",
    "version": 3
   },
   "file_extension": ".py",
   "mimetype": "text/x-python",
   "name": "python",
   "nbconvert_exporter": "python",
   "pygments_lexer": "ipython3",
   "version": "3.7.6"
  }
 },
 "nbformat": 4,
 "nbformat_minor": 4
}
