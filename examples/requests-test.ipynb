{
 "cells": [
  {
   "cell_type": "code",
   "execution_count": 2,
   "metadata": {},
   "outputs": [
    {
     "name": "stdout",
     "output_type": "stream",
     "text": [
      "Requirement already satisfied: testbook in c:\\users\\laura gf\\documents\\github\\testbook\\dev\\lib\\site-packages (0.4.1)\n",
      "Requirement already satisfied: nbclient>=0.4.0 in c:\\users\\laura gf\\documents\\github\\testbook\\dev\\lib\\site-packages (from testbook) (0.5.3)\n",
      "Requirement already satisfied: nbformat>=5.0.4 in c:\\users\\laura gf\\documents\\github\\testbook\\dev\\lib\\site-packages (from testbook) (5.1.3)\n",
      "Requirement already satisfied: async-generator in c:\\users\\laura gf\\documents\\github\\testbook\\dev\\lib\\site-packages (from nbclient>=0.4.0->testbook) (1.10)\n",
      "Requirement already satisfied: jupyter-client>=6.1.5 in c:\\users\\laura gf\\documents\\github\\testbook\\dev\\lib\\site-packages (from nbclient>=0.4.0->testbook) (6.1.12)\n",
      "Requirement already satisfied: nest-asyncio in c:\\users\\laura gf\\documents\\github\\testbook\\dev\\lib\\site-packages (from nbclient>=0.4.0->testbook) (1.5.1)\n",
      "Requirement already satisfied: traitlets>=4.2 in c:\\users\\laura gf\\documents\\github\\testbook\\dev\\lib\\site-packages (from nbclient>=0.4.0->testbook) (5.0.5)\n",
      "Requirement already satisfied: jsonschema!=2.5.0,>=2.4 in c:\\users\\laura gf\\documents\\github\\testbook\\dev\\lib\\site-packages (from nbformat>=5.0.4->testbook) (3.2.0)\n",
      "Requirement already satisfied: jupyter-core in c:\\users\\laura gf\\documents\\github\\testbook\\dev\\lib\\site-packages (from nbformat>=5.0.4->testbook) (4.7.1)\n",
      "Requirement already satisfied: ipython-genutils in c:\\users\\laura gf\\documents\\github\\testbook\\dev\\lib\\site-packages (from nbformat>=5.0.4->testbook) (0.2.0)\n",
      "Requirement already satisfied: pyzmq>=13 in c:\\users\\laura gf\\documents\\github\\testbook\\dev\\lib\\site-packages (from jupyter-client>=6.1.5->nbclient>=0.4.0->testbook) (22.0.3)\n",
      "Requirement already satisfied: tornado>=4.1 in c:\\users\\laura gf\\documents\\github\\testbook\\dev\\lib\\site-packages (from jupyter-client>=6.1.5->nbclient>=0.4.0->testbook) (6.1)\n",
      "Requirement already satisfied: python-dateutil>=2.1 in c:\\users\\laura gf\\documents\\github\\testbook\\dev\\lib\\site-packages (from jupyter-client>=6.1.5->nbclient>=0.4.0->testbook) (2.8.1)\n",
      "Requirement already satisfied: six>=1.11.0 in c:\\users\\laura gf\\documents\\github\\testbook\\dev\\lib\\site-packages (from jsonschema!=2.5.0,>=2.4->nbformat>=5.0.4->testbook) (1.16.0)\n",
      "Requirement already satisfied: importlib-metadata; python_version < \"3.8\" in c:\\users\\laura gf\\documents\\github\\testbook\\dev\\lib\\site-packages (from jsonschema!=2.5.0,>=2.4->nbformat>=5.0.4->testbook) (4.0.1)\n",
      "Requirement already satisfied: attrs>=17.4.0 in c:\\users\\laura gf\\documents\\github\\testbook\\dev\\lib\\site-packages (from jsonschema!=2.5.0,>=2.4->nbformat>=5.0.4->testbook) (21.2.0)\n",
      "Requirement already satisfied: setuptools in c:\\users\\laura gf\\documents\\github\\testbook\\dev\\lib\\site-packages (from jsonschema!=2.5.0,>=2.4->nbformat>=5.0.4->testbook) (41.2.0)\n",
      "Requirement already satisfied: pyrsistent>=0.14.0 in c:\\users\\laura gf\\documents\\github\\testbook\\dev\\lib\\site-packages (from jsonschema!=2.5.0,>=2.4->nbformat>=5.0.4->testbook) (0.17.3)\n",
      "Requirement already satisfied: pywin32>=1.0; sys_platform == \"win32\" in c:\\users\\laura gf\\documents\\github\\testbook\\dev\\lib\\site-packages (from jupyter-core->nbformat>=5.0.4->testbook) (300)\n",
      "Requirement already satisfied: zipp>=0.5 in c:\\users\\laura gf\\documents\\github\\testbook\\dev\\lib\\site-packages (from importlib-metadata; python_version < \"3.8\"->jsonschema!=2.5.0,>=2.4->nbformat>=5.0.4->testbook) (3.4.1)\n",
      "Requirement already satisfied: typing-extensions>=3.6.4; python_version < \"3.8\" in c:\\users\\laura gf\\documents\\github\\testbook\\dev\\lib\\site-packages (from importlib-metadata; python_version < \"3.8\"->jsonschema!=2.5.0,>=2.4->nbformat>=5.0.4->testbook) (3.10.0.0)\n"
     ]
    },
    {
     "name": "stderr",
     "output_type": "stream",
     "text": [
      "WARNING: You are using pip version 19.2.3, however version 21.1.2 is available.\n",
      "You should consider upgrading via the 'python -m pip install --upgrade pip' command.\n"
     ]
    }
   ],
   "source": [
    "!pip install testbook"
   ]
  },
  {
   "cell_type": "code",
   "execution_count": 1,
   "metadata": {},
   "outputs": [
    {
     "ename": "ModuleNotFoundError",
     "evalue": "No module named 'testbook'",
     "output_type": "error",
     "traceback": [
      "\u001b[1;31m---------------------------------------------------------------------------\u001b[0m",
      "\u001b[1;31mModuleNotFoundError\u001b[0m                       Traceback (most recent call last)",
      "\u001b[1;32m<ipython-input-1-6a074bfaef1c>\u001b[0m in \u001b[0;36m<module>\u001b[1;34m\u001b[0m\n\u001b[1;32m----> 1\u001b[1;33m \u001b[1;32mfrom\u001b[0m \u001b[0mtestbook\u001b[0m \u001b[1;32mimport\u001b[0m \u001b[0mtestbook\u001b[0m\u001b[1;33m\u001b[0m\u001b[1;33m\u001b[0m\u001b[0m\n\u001b[0m\u001b[0;32m      2\u001b[0m \u001b[1;33m\u001b[0m\u001b[0m\n\u001b[0;32m      3\u001b[0m \u001b[1;33m@\u001b[0m\u001b[0mtestbook\u001b[0m\u001b[1;33m(\u001b[0m\u001b[1;34m'./requests-test.ipynb'\u001b[0m\u001b[1;33m,\u001b[0m \u001b[0mexecute\u001b[0m\u001b[1;33m=\u001b[0m\u001b[1;32mTrue\u001b[0m\u001b[1;33m)\u001b[0m\u001b[1;33m\u001b[0m\u001b[1;33m\u001b[0m\u001b[0m\n\u001b[0;32m      4\u001b[0m \u001b[1;32mdef\u001b[0m \u001b[0mtest_get_details\u001b[0m\u001b[1;33m(\u001b[0m\u001b[0mtb\u001b[0m\u001b[1;33m)\u001b[0m\u001b[1;33m:\u001b[0m\u001b[1;33m\u001b[0m\u001b[1;33m\u001b[0m\u001b[0m\n\u001b[0;32m      5\u001b[0m     \u001b[1;32mwith\u001b[0m \u001b[0mtb\u001b[0m\u001b[1;33m.\u001b[0m\u001b[0mpatch\u001b[0m\u001b[1;33m(\u001b[0m\u001b[1;34m'requests.get'\u001b[0m\u001b[1;33m)\u001b[0m \u001b[1;32mas\u001b[0m \u001b[0mmock_get\u001b[0m\u001b[1;33m:\u001b[0m\u001b[1;33m\u001b[0m\u001b[1;33m\u001b[0m\u001b[0m\n",
      "\u001b[1;31mModuleNotFoundError\u001b[0m: No module named 'testbook'"
     ]
    }
   ],
   "source": [
    "from testbook import testbook\n",
    "\n",
    "@testbook('./requests-test.ipynb', execute=True)\n",
    "def test_get_details(tb):\n",
    "    with tb.patch('requests.get') as mock_get:\n",
    "        get_details = tb.ref('get_details') # get reference to function\n",
    "        get_details('https://my-api.com')\n",
    "\n",
    "        mock_get.assert_called_with('https://my-api.com')\n",
    "        "
   ]
  },
  {
   "cell_type": "code",
   "execution_count": null,
   "metadata": {},
   "outputs": [],
   "source": [
    "test_get_details()"
   ]
  },
  {
   "cell_type": "code",
   "execution_count": null,
   "metadata": {},
   "outputs": [],
   "source": []
  }
 ],
 "metadata": {
  "kernelspec": {
   "display_name": "Python 3",
   "language": "python",
   "name": "python3"
  },
  "language_info": {
   "codemirror_mode": {
    "name": "ipython",
    "version": 3
   },
   "file_extension": ".py",
   "mimetype": "text/x-python",
   "name": "python",
   "nbconvert_exporter": "python",
   "pygments_lexer": "ipython3",
   "version": "3.7.6"
  }
 },
 "nbformat": 4,
 "nbformat_minor": 4
}
