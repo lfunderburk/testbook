{
 "cells": [
  {
   "cell_type": "code",
   "execution_count": null,
   "id": "e8685043",
   "metadata": {},
   "outputs": [],
   "source": [
    "from testbook import testbook\n",
    "\n",
    "@testbook('stdout-assertion-example.ipynb', execute=True)\n",
    "def test_stdout(tb):\n",
    "    assert tb.cell_output_text(1) == 'hello world!'\n",
    "\n",
    "    assert 'The current time is' in tb.cell_output_text(2)"
   ]
  }
 ],
 "metadata": {
  "kernelspec": {
   "display_name": "Python 3",
   "language": "python",
   "name": "python3"
  },
  "language_info": {
   "codemirror_mode": {
    "name": "ipython",
    "version": 3
   },
   "file_extension": ".py",
   "mimetype": "text/x-python",
   "name": "python",
   "nbconvert_exporter": "python",
   "pygments_lexer": "ipython3",
   "version": "3.7.6"
  }
 },
 "nbformat": 4,
 "nbformat_minor": 5
}
